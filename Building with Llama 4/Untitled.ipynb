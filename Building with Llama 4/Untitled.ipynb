{
 "cells": [
  {
   "cell_type": "code",
   "execution_count": 1,
   "id": "a0823bb5",
   "metadata": {
    "height": 132
   },
   "outputs": [],
   "source": [
    "import os\n",
    "import zipfile\n",
    "from pathlib import Path\n",
    "import datetime\n",
    "from tqdm import tqdm\n",
    "import shutil\n"
   ]
  },
  {
   "cell_type": "code",
   "execution_count": 2,
   "id": "cbce61c4",
   "metadata": {
    "height": 353
   },
   "outputs": [
    {
     "name": "stdout",
     "output_type": "stream",
     "text": [
      "Source directory: /home/jovyan/work\n",
      "Zip filename: deeplearning_ai_course_backup_20250705_204054.zip\n",
      "Excluding patterns: {'.git', '*.pyc', '__pycache__', '.env', '.ipynb_checkpoints', '.DS_Store', 'node_modules'}\n"
     ]
    }
   ],
   "source": [
    "# Configuration\n",
    "source_directory = \".\"\n",
    "timestamp = datetime.datetime.now().strftime(\"%Y%m%d_%H%M%S\")\n",
    "zip_filename = f\"deeplearning_ai_course_backup_{timestamp}.zip\"\n",
    "\n",
    "# Files and directories to exclude (optional)\n",
    "exclude_patterns = {\n",
    "    '.git',\n",
    "    '__pycache__',\n",
    "    '.DS_Store',\n",
    "    '*.pyc',\n",
    "    '.ipynb_checkpoints',\n",
    "    'node_modules',\n",
    "    '.env'\n",
    "}\n",
    "\n",
    "print(f\"Source directory: {os.path.abspath(source_directory)}\")\n",
    "print(f\"Zip filename: {zip_filename}\")\n",
    "print(f\"Excluding patterns: {exclude_patterns}\")\n"
   ]
  },
  {
   "cell_type": "code",
   "execution_count": 3,
   "id": "66a95db2",
   "metadata": {
    "height": 659
   },
   "outputs": [
    {
     "name": "stdout",
     "output_type": "stream",
     "text": [
      "Scanning for files...\n",
      "Found 183 files to zip\n"
     ]
    }
   ],
   "source": [
    "def should_exclude(file_path, exclude_patterns):\n",
    "    \"\"\"Check if a file should be excluded based on patterns.\"\"\"\n",
    "    path_parts = Path(file_path).parts\n",
    "    \n",
    "    for pattern in exclude_patterns:\n",
    "        if pattern.startswith('*'):\n",
    "            # Handle wildcard patterns\n",
    "            if any(part.endswith(pattern[1:]) for part in path_parts):\n",
    "                return True\n",
    "        else:\n",
    "            # Handle exact matches\n",
    "            if pattern in path_parts:\n",
    "                return True\n",
    "    return False\n",
    "\n",
    "def get_all_files(directory, exclude_patterns=None):\n",
    "    \"\"\"Get all files in directory and subdirectories, excluding specified patterns.\"\"\"\n",
    "    if exclude_patterns is None:\n",
    "        exclude_patterns = set()\n",
    "    \n",
    "    all_files = []\n",
    "    \n",
    "    for root, dirs, files in os.walk(directory):\n",
    "        # Skip directories that match exclude patterns\n",
    "        dirs[:] = [d for d in dirs if not should_exclude(os.path.join(root, d), exclude_patterns)]\n",
    "        \n",
    "        for file in files:\n",
    "            file_path = os.path.join(root, file)\n",
    "            if not should_exclude(file_path, exclude_patterns):\n",
    "                all_files.append(file_path)\n",
    "    \n",
    "    return all_files\n",
    "\n",
    "# Get all files to be zipped\n",
    "print(\"Scanning for files...\")\n",
    "files_to_zip = get_all_files(source_directory, exclude_patterns)\n",
    "print(f\"Found {len(files_to_zip)} files to zip\")\n"
   ]
  },
  {
   "cell_type": "code",
   "execution_count": 4,
   "id": "72335c73",
   "metadata": {
    "height": 30
   },
   "outputs": [
    {
     "name": "stdout",
     "output_type": "stream",
     "text": [
      "\n",
      "Total size: 45.86 MB\n",
      "\n",
      "File types (top 10):\n",
      "  .py: 47 files\n",
      "  .md: 26 files\n",
      "  .png: 23 files\n",
      "  .txt: 18 files\n",
      "  .json: 17 files\n",
      "  .pdf: 12 files\n",
      "  (no extension): 11 files\n",
      "  .ipynb: 8 files\n",
      "  .jpg: 6 files\n",
      "  .yaml: 3 files\n"
     ]
    }
   ],
   "source": [
    "# Display some statistics\n",
    "total_size = 0\n",
    "file_types = {}\n",
    "\n",
    "for file_path in files_to_zip:\n",
    "    try:\n",
    "        size = os.path.getsize(file_path)\n",
    "        total_size += size\n",
    "        \n",
    "        # Count file types\n",
    "        ext = Path(file_path).suffix.lower()\n",
    "        file_types[ext] = file_types.get(ext, 0) + 1\n",
    "    except OSError:\n",
    "        print(f\"Warning: Could not access {file_path}\")\n",
    "\n",
    "print(f\"\\nTotal size: {total_size / (1024*1024):.2f} MB\")\n",
    "print(f\"\\nFile types (top 10):\")\n",
    "for ext, count in sorted(file_types.items(), key=lambda x: x[1], reverse=True)[:10]:\n",
    "    print(f\"  {ext if ext else '(no extension)'}: {count} files\")\n"
   ]
  },
  {
   "cell_type": "code",
   "execution_count": null,
   "id": "1e76b2a7",
   "metadata": {
    "height": 30
   },
   "outputs": [],
   "source": []
  },
  {
   "cell_type": "code",
   "execution_count": null,
   "id": "2207aeb7",
   "metadata": {
    "height": 30
   },
   "outputs": [],
   "source": []
  },
  {
   "cell_type": "code",
   "execution_count": null,
   "id": "1c519246",
   "metadata": {
    "height": 30
   },
   "outputs": [],
   "source": []
  }
 ],
 "metadata": {
  "kernelspec": {
   "display_name": "Python 3 (ipykernel)",
   "language": "python",
   "name": "python3"
  },
  "language_info": {
   "codemirror_mode": {
    "name": "ipython",
    "version": 3
   },
   "file_extension": ".py",
   "mimetype": "text/x-python",
   "name": "python",
   "nbconvert_exporter": "python",
   "pygments_lexer": "ipython3",
   "version": "3.11.3"
  }
 },
 "nbformat": 4,
 "nbformat_minor": 5
}
