{
 "cells": [
  {
   "cell_type": "code",
   "execution_count": 2,
   "id": "2c2e64be",
   "metadata": {
    "height": 1339
   },
   "outputs": [],
   "source": [
    "import os\n",
    "import zipfile\n",
    "import shutil\n",
    "from tqdm import tqdm  # For progress bar (optional)\n",
    "\n",
    "def download_and_zip_files(source_dir, zip_filename=\"downloaded_files.zip\"):\n",
    "    \"\"\"\n",
    "    Downloads all files from source_dir (including nested folders)\n",
    "    and creates a zip file containing them.\n",
    "    \n",
    "    Args:\n",
    "        source_dir (str): Path to the source directory\n",
    "        zip_filename (str): Name of the output zip file\n",
    "    \"\"\"\n",
    "    # Make sure the source directory exists\n",
    "    if not os.path.exists(source_dir):\n",
    "        raise FileNotFoundError(f\"Source directory '{source_dir}' not found\")\n",
    "    \n",
    "    # Create a temporary directory to store downloaded files\n",
    "    temp_dir = \"temp_download\"\n",
    "    if os.path.exists(temp_dir):\n",
    "        shutil.rmtree(temp_dir)\n",
    "    os.makedirs(temp_dir)\n",
    "    \n",
    "    print(f\"Downloading files from '{source_dir}'...\")\n",
    "    \n",
    "    # Walk through all directories and files\n",
    "    total_files = 0\n",
    "    for root, dirs, files in os.walk(source_dir):\n",
    "        total_files += len(files)\n",
    "    \n",
    "    # Create progress bar\n",
    "    pbar = tqdm(total=total_files, unit=\"file\")\n",
    "    \n",
    "    # Copy all files preserving directory structure\n",
    "    for root, dirs, files in os.walk(source_dir):\n",
    "        # Get the relative path to maintain folder structure\n",
    "        rel_path = os.path.relpath(root, source_dir)\n",
    "        \n",
    "        # Create the corresponding directory in the temp folder\n",
    "        if rel_path != \".\":\n",
    "            os.makedirs(os.path.join(temp_dir, rel_path), exist_ok=True)\n",
    "        \n",
    "        # Copy each file\n",
    "        for file in files:\n",
    "            src_file = os.path.join(root, file)\n",
    "            dst_file = os.path.join(temp_dir, rel_path, file)\n",
    "            shutil.copy2(src_file, dst_file)\n",
    "            pbar.update(1)\n",
    "    \n",
    "    pbar.close()\n",
    "    print(f\"Downloaded {total_files} files\")\n",
    "    \n",
    "    # Create zip file\n",
    "    print(f\"Creating zip file '{zip_filename}'...\")\n",
    "    with zipfile.ZipFile(zip_filename, 'w', zipfile.ZIP_DEFLATED) as zipf:\n",
    "        for root, dirs, files in os.walk(temp_dir):\n",
    "            for file in files:\n",
    "                file_path = os.path.join(root, file)\n",
    "                # Remove the temp_dir prefix from the archived name\n",
    "                arcname = os.path.relpath(file_path, temp_dir)\n",
    "                zipf.write(file_path, arcname)\n",
    "    \n",
    "    # Clean up temp directory\n",
    "    shutil.rmtree(temp_dir)\n",
    "    print(f\"Zip file '{zip_filename}' created successfully\")\n",
    "\n",
    "# Example usage - call the function directly instead of using command line arguments\n",
    "# Replace 'your_source_directory' with the actual path to your source directory\n",
    "# download_and_zip_files('your_source_directory', 'your_output.zip')"
   ]
  },
  {
   "cell_type": "code",
   "execution_count": null,
   "id": "0b08bce9",
   "metadata": {
    "height": 30
   },
   "outputs": [],
   "source": []
  }
 ],
 "metadata": {
  "kernelspec": {
   "display_name": "Python 3 (ipykernel)",
   "language": "python",
   "name": "python3"
  },
  "language_info": {
   "codemirror_mode": {
    "name": "ipython",
    "version": 3
   },
   "file_extension": ".py",
   "mimetype": "text/x-python",
   "name": "python",
   "nbconvert_exporter": "python",
   "pygments_lexer": "ipython3",
   "version": "3.11.9"
  }
 },
 "nbformat": 4,
 "nbformat_minor": 5
}
