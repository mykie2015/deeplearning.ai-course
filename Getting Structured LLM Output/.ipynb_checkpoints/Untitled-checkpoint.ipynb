{
 "cells": [
  {
   "cell_type": "code",
   "execution_count": null,
   "id": "662135f2",
   "metadata": {
    "height": 285
   },
   "outputs": [],
   "source": [
    "import os\n",
    "import zipfile\n",
    "\n",
    "\n",
    "def zip_all_files(source_folder, output_zip):\n",
    "    with zipfile.ZipFile(output_zip, 'w', zipfile.ZIP_DEFLATED) as zipf:\n",
    "        for root, _, files in os.walk(source_folder):\n",
    "            for file in files:\n",
    "                file_path = os.path.join(root, file)\n",
    "                arcname = os.path.relpath(file_path, source_folder)\n",
    "                zipf.write(file_path, arcname)\n",
    "    print(f'Files zipped successfully into {output_zip}')\n",
    "\n",
    "if __name__ == \"__main__\":\n",
    "    folder_to_zip = input(\"Enter the folder path to zip: \")\n",
    "    zip_file_name = os.path.join(folder_to_zip, \"all_files.zip\")\n",
    "    zip_all_files(folder_to_zip, zip_file_name)\n"
   ]
  }
 ],
 "metadata": {
  "kernelspec": {
   "display_name": "Python 3 (ipykernel)",
   "language": "python",
   "name": "python3"
  },
  "language_info": {
   "codemirror_mode": {
    "name": "ipython",
    "version": 3
   },
   "file_extension": ".py",
   "mimetype": "text/x-python",
   "name": "python",
   "nbconvert_exporter": "python",
   "pygments_lexer": "ipython3",
   "version": "3.11.9"
  }
 },
 "nbformat": 4,
 "nbformat_minor": 5
}
