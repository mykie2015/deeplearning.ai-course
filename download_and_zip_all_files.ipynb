{
  "cells": [
    {
      "cell_type": "raw",
      "metadata": {
        "vscode": {
          "languageId": "raw"
        }
      },
      "source": [
        "# Simple Download and Zip All Files\n",
        "\n",
        "This notebook contains a single cell that will recursively collect all files from the current directory and subdirectories, then create a zip archive containing all the files.\n",
        "\n",
        "**Warning**: This will create a large zip file containing your entire project directory. Make sure you have sufficient disk space.\n"
      ]
    },
    {
      "cell_type": "code",
      "execution_count": null,
      "metadata": {},
      "outputs": [],
      "source": [
        "import os\n",
        "import zipfile\n",
        "from pathlib import Path\n",
        "import datetime\n",
        "\n",
        "# Configuration\n",
        "source_directory = \".\"\n",
        "timestamp = datetime.datetime.now().strftime(\"%Y%m%d_%H%M%S\")\n",
        "zip_filename = f\"deeplearning_ai_course_backup_{timestamp}.zip\"\n",
        "\n",
        "# Files and directories to exclude\n",
        "exclude_patterns = {'.git', '__pycache__', '.DS_Store', '.ipynb_checkpoints', 'node_modules', '.env'}\n",
        "\n",
        "def should_exclude(file_path):\n",
        "    \"\"\"Check if a file should be excluded.\"\"\"\n",
        "    path_parts = Path(file_path).parts\n",
        "    return any(pattern in path_parts for pattern in exclude_patterns)\n",
        "\n",
        "def get_all_files(directory):\n",
        "    \"\"\"Get all files in directory and subdirectories.\"\"\"\n",
        "    all_files = []\n",
        "    for root, dirs, files in os.walk(directory):\n",
        "        dirs[:] = [d for d in dirs if not should_exclude(os.path.join(root, d))]\n",
        "        for file in files:\n",
        "            file_path = os.path.join(root, file)\n",
        "            if not should_exclude(file_path):\n",
        "                all_files.append(file_path)\n",
        "    return all_files\n",
        "\n",
        "# Get all files and create zip\n",
        "print(\"Scanning for files...\")\n",
        "files_to_zip = get_all_files(source_directory)\n",
        "print(f\"Found {len(files_to_zip)} files to zip\")\n",
        "\n",
        "# Calculate total size\n",
        "total_size = sum(os.path.getsize(f) for f in files_to_zip if os.path.exists(f))\n",
        "print(f\"Total size: {total_size / (1024*1024):.2f} MB\")\n",
        "\n",
        "# Create zip file\n",
        "print(f\"Creating zip file: {zip_filename}\")\n",
        "with zipfile.ZipFile(zip_filename, 'w', zipfile.ZIP_DEFLATED, compresslevel=6) as zipf:\n",
        "    for file_path in files_to_zip:\n",
        "        try:\n",
        "            arcname = os.path.relpath(file_path, source_directory)\n",
        "            zipf.write(file_path, arcname)\n",
        "        except Exception as e:\n",
        "            print(f\"Warning: Could not zip {file_path}: {e}\")\n",
        "\n",
        "# Show results\n",
        "if os.path.exists(zip_filename):\n",
        "    zip_size = os.path.getsize(zip_filename)\n",
        "    print(f\"\\n✓ Zip file created: {zip_filename}\")\n",
        "    print(f\"✓ Zip size: {zip_size / (1024*1024):.2f} MB\")\n",
        "    print(f\"✓ Compression: {((total_size - zip_size) / total_size * 100):.1f}%\")\n",
        "    print(\"\\nBackup complete!\")\n",
        "else:\n",
        "    print(\"❌ Failed to create zip file\")\n"
      ]
    }
  ],
  "metadata": {
    "language_info": {
      "name": "python"
    }
  },
  "nbformat": 4,
  "nbformat_minor": 2
}
